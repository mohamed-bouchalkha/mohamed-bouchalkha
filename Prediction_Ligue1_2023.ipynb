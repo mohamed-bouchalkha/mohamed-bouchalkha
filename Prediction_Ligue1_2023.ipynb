{
  "nbformat": 4,
  "nbformat_minor": 0,
  "metadata": {
    "colab": {
      "provenance": [],
      "authorship_tag": "ABX9TyP5+tEMjofdAGVIy5V/5q5C",
      "include_colab_link": true
    },
    "kernelspec": {
      "name": "python3",
      "display_name": "Python 3"
    },
    "language_info": {
      "name": "python"
    }
  },
  "cells": [
    {
      "cell_type": "markdown",
      "metadata": {
        "id": "view-in-github",
        "colab_type": "text"
      },
      "source": [
        "<a href=\"https://colab.research.google.com/github/mohamed-bouchalkha/mohamed-bouchalkha/blob/main/Prediction_Ligue1_2023.ipynb\" target=\"_parent\"><img src=\"https://colab.research.google.com/assets/colab-badge.svg\" alt=\"Open In Colab\"/></a>"
      ]
    },
    {
      "cell_type": "code",
      "execution_count": 1,
      "metadata": {
        "colab": {
          "base_uri": "https://localhost:8080/"
        },
        "id": "o2a6fYdYtjqb",
        "outputId": "72d093ac-49ff-4fd6-a2b1-d8d25810208f"
      },
      "outputs": [
        {
          "output_type": "stream",
          "name": "stdout",
          "text": [
            "Mounted at /content/drive\n"
          ]
        }
      ],
      "source": []
    },
    {
      "cell_type": "code",
      "source": [
        "from google.colab import drive\n",
        "drive.mount('/content/drive')"
      ],
      "metadata": {
        "id": "kwjSKAhiuuQt"
      },
      "execution_count": null,
      "outputs": []
    },
    {
      "cell_type": "code",
      "source": [
        "# Monter Google Drive\n",
        "from google.colab import drive\n",
        "drive.mount('/content/drive')\n",
        "\n",
        "# Définir le chemin des fichiers\n",
        "base_path = '/content/drive/MyDrive/ColabDatasets/Ligue1_Prediction/'\n",
        "\n",
        "# Importer les bibliothèques\n",
        "import pandas as pd\n",
        "\n",
        "# Lire les datasets\n",
        "df_match_hist = pd.read_csv(base_path + \"matchs_2013_2022.csv\")\n",
        "df_match_2023 = pd.read_csv(base_path + \"match_2023.csv\")\n",
        "df_clubs = pd.read_csv(base_path + \"clubs_fr.csv\")\n",
        "df_valuations = pd.read_csv(base_path + \"player_valuation_before_season.csv\")\n",
        "df_appearance = pd.read_csv(base_path + \"player_appearance.csv\")\n",
        "df_lineups = pd.read_csv(base_path + \"game_lineups.csv\")\n",
        "df_events = pd.read_csv(base_path + \"game_events.csv\")\n",
        "df_sample = pd.read_csv(base_path + \"sample_results.csv\")\n",
        "df_prediction_ex = pd.read_csv(base_path + \"prediction_example.csv\")  # facultatif\n"
      ],
      "metadata": {
        "colab": {
          "base_uri": "https://localhost:8080/"
        },
        "id": "UhEGGgb4tvRX",
        "outputId": "bc59df9b-15ad-4b94-8353-21a173334196"
      },
      "execution_count": 3,
      "outputs": [
        {
          "output_type": "stream",
          "name": "stdout",
          "text": [
            "Drive already mounted at /content/drive; to attempt to forcibly remount, call drive.mount(\"/content/drive\", force_remount=True).\n"
          ]
        },
        {
          "output_type": "stream",
          "name": "stderr",
          "text": [
            "<ipython-input-3-82409e429909>:17: DtypeWarning: Columns (9) have mixed types. Specify dtype option on import or set low_memory=False.\n",
            "  df_lineups = pd.read_csv(base_path + \"game_lineups.csv\")\n"
          ]
        }
      ]
    },
    {
      "cell_type": "code",
      "source": [],
      "metadata": {
        "id": "muNyTGnOuQJL"
      },
      "execution_count": 4,
      "outputs": []
    },
    {
      "cell_type": "code",
      "source": [],
      "metadata": {
        "id": "fNNPCd4uulZV"
      },
      "execution_count": null,
      "outputs": []
    }
  ]
}